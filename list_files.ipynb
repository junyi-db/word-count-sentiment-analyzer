{
 "cells": [
  {
   "cell_type": "code",
   "execution_count": 0,
   "metadata": {
    "application/vnd.databricks.v1+cell": {
     "cellMetadata": {},
     "inputWidgets": {},
     "nuid": "d18fd40e-8145-463c-9b52-a0c624fb65a7",
     "showTitle": false,
     "tableResultSettingsMap": {},
     "title": ""
    }
   },
   "outputs": [],
   "source": [
    "import json\n",
    "import os\n",
    "\n",
    "# Clean up: Delete all existing .txt files and *_text_analysis.csv files from /dbfs/tmp\n",
    "print(\"Cleaning up existing files...\")\n",
    "tmp_files = dbutils.fs.ls(\"dbfs:/tmp/\")\n",
    "for file_info in tmp_files:\n",
    "    file_path = file_info.path\n",
    "    if file_path.lower().endswith(\".txt\") or file_path.lower().endswith(\"_text_analysis.csv\"):\n",
    "        print(f\"Deleting: {file_path}\")\n",
    "        dbutils.fs.rm(file_path)\n",
    "\n",
    "# Get volume path from widget\n",
    "volume_path = dbutils.widgets.get(\"volume_path\")\n",
    "\n",
    "# List .txt files in Unity Catalog volume\n",
    "src_paths = [\n",
    "    f.path for f in dbutils.fs.ls(volume_path)\n",
    "    if f.path.lower().endswith(\".txt\")\n",
    "]\n",
    "print(f\"Found {len(src_paths)} source text files\")\n",
    "\n",
    "copied_paths = []\n",
    "\n",
    "# Copy each file to /dbfs/tmp and collect real local-accessible paths\n",
    "for src in src_paths:\n",
    "    filename = src.split(\"/\")[-1]\n",
    "    dst_java = f\"/dbfs/tmp/{filename}\"\n",
    "    dst_spark = f\"dbfs:/tmp/{filename}\"\n",
    "    \n",
    "    print(f\"Copying file: {filename}\")\n",
    "    \n",
    "    try:\n",
    "        # Copy the file from volume to DBFS\n",
    "        dbutils.fs.cp(src, dst_spark, recurse=False)\n",
    "        \n",
    "        # Verify the file exists locally\n",
    "        if os.path.exists(dst_java):\n",
    "            file_size = os.path.getsize(dst_java)\n",
    "            print(f\"  ✓ Successfully copied: {dst_java} ({file_size} bytes)\")\n",
    "            copied_paths.append(dst_java)\n",
    "        else:\n",
    "            print(f\"  ⚠️ File not found locally after copy: {dst_java}\")\n",
    "    except Exception as e:\n",
    "        print(f\"  ❌ Error copying file: {str(e)}\")\n",
    "\n",
    "# Summary\n",
    "print(\"\\nSummary:\")\n",
    "print(f\"Total source files: {len(src_paths)}\")\n",
    "print(f\"Files copied: {len(copied_paths)}\")\n",
    "\n",
    "# Store for downstream use\n",
    "dbutils.jobs.taskValues.set(\"file_paths\", copied_paths)"
   ]
  }
 ],
 "metadata": {
  "application/vnd.databricks.v1+notebook": {
   "computePreferences": null,
   "dashboards": [],
   "environmentMetadata": {
    "base_environment": "dbe_41a50460-c90b-4840-9288-afcb847395d5",
    "environment_version": "2"
   },
   "inputWidgetPreferences": null,
   "language": "python",
   "notebookMetadata": {
    "pythonIndentUnit": 4
   },
   "notebookName": "list_files",
   "widgets": {
    "volume_path": {
     "currentValue": " /Volumes/jy_demo_catalog/text_analysis_schema/sample_texts/",
     "nuid": "3c407663-3023-404f-85c0-c1f96a952911",
     "typedWidgetInfo": {
      "autoCreated": false,
      "defaultValue": "",
      "label": "",
      "name": "volume_path",
      "options": {
       "widgetDisplayType": "Text",
       "validationRegex": null
      },
      "parameterDataType": "String"
     },
     "widgetInfo": {
      "widgetType": "text",
      "defaultValue": "",
      "label": "",
      "name": "volume_path",
      "options": {
       "widgetType": "text",
       "autoCreated": false,
       "validationRegex": null
      }
     }
    }
   }
  },
  "language_info": {
   "name": "python"
  }
 },
 "nbformat": 4,
 "nbformat_minor": 0
}

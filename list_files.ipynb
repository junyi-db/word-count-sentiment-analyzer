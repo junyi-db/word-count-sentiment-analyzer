{
 "cells": [
  {
   "cell_type": "code",
   "execution_count": 0,
   "metadata": {
    "application/vnd.databricks.v1+cell": {
     "cellMetadata": {},
     "inputWidgets": {},
     "nuid": "30008203-2c92-46a9-93f2-a64c9fae2750",
     "showTitle": false,
     "tableResultSettingsMap": {},
     "title": ""
    }
   },
   "outputs": [],
   "source": [
    "import json\n",
    "import os\n",
    "\n",
    "# Parameter for whether to overwrite existing files\n",
    "overwrite_existing = dbutils.widgets.get(\"overwrite_results_table\")\n",
    "print(f\"Overwrite existing files: {overwrite_existing}\")\n",
    "\n",
    "# List .txt files in Unity Catalog volume\n",
    "src_paths = [\n",
    "    f.path for f in dbutils.fs.ls(dbutils.widgets.get(\"volume_path\"))\n",
    "    if f.path.lower().endswith(\".txt\")\n",
    "]\n",
    "print(f\"Found {len(src_paths)} source text files\")\n",
    "\n",
    "# List existing files in the destination to avoid copying duplicates\n",
    "existing_files = set()\n",
    "try:\n",
    "    existing_files_info = dbutils.fs.ls(\"dbfs:/tmp/\")\n",
    "    existing_files = {f.name for f in existing_files_info}\n",
    "    print(f\"Found {len(existing_files)} existing files in destination\")\n",
    "except Exception as e:\n",
    "    print(f\"No existing files found in destination: {str(e)}\")\n",
    "\n",
    "copied_paths = []\n",
    "skipped_paths = []\n",
    "\n",
    "# Copy each file to /dbfs/tmp and collect real local-accessible paths\n",
    "for src in src_paths:\n",
    "    filename = src.split(\"/\")[-1]\n",
    "    dst_java = f\"/dbfs/tmp/{filename}\"\n",
    "    dst_spark = f\"dbfs:/tmp/{filename}\"\n",
    "    \n",
    "    # Check if file already exists\n",
    "    file_exists = filename in existing_files\n",
    "    \n",
    "    if file_exists and not overwrite_existing:\n",
    "        print(f\"Skipping existing file: {filename}\")\n",
    "        \n",
    "        # If the file exists locally, add it to the paths for processing\n",
    "        if os.path.exists(dst_java):\n",
    "            print(f\"  ✓ File exists locally: {dst_java}\")\n",
    "            copied_paths.append(dst_java)\n",
    "        else:\n",
    "            print(f\"  ⚠️ File exists in DBFS but not locally: {dst_java}\")\n",
    "            # Try to copy it locally to ensure consistency\n",
    "            try:\n",
    "                dbutils.fs.cp(dst_spark, dst_spark, recurse=False)  # Copy to itself to ensure local file exists\n",
    "                if os.path.exists(dst_java):\n",
    "                    print(f\"  ✓ Successfully ensured local file: {dst_java}\")\n",
    "                    copied_paths.append(dst_java)\n",
    "                else:\n",
    "                    print(f\"  ❌ Failed to ensure local file: {dst_java}\")\n",
    "            except Exception as e:\n",
    "                print(f\"  ❌ Error ensuring local file: {str(e)}\")\n",
    "        \n",
    "        skipped_paths.append(dst_java)\n",
    "    else:\n",
    "        # Copy the file (either it's new or we're overwriting)\n",
    "        action = \"Overwriting\" if file_exists else \"Copying\"\n",
    "        print(f\"{action} file: {filename}\")\n",
    "        \n",
    "        try:\n",
    "            dbutils.fs.cp(src, dst_spark, recurse=False)\n",
    "            \n",
    "            # Verify the file exists locally\n",
    "            if os.path.exists(dst_java):\n",
    "                file_size = os.path.getsize(dst_java)\n",
    "                print(f\"  ✓ Successfully copied: {dst_java} ({file_size} bytes)\")\n",
    "                copied_paths.append(dst_java)\n",
    "            else:\n",
    "                print(f\"  ⚠️ File copied to DBFS but not found locally: {dst_java}\")\n",
    "                # Try to ensure the local file exists\n",
    "                try:\n",
    "                    dbutils.fs.cp(dst_spark, dst_spark, recurse=False)\n",
    "                    if os.path.exists(dst_java):\n",
    "                        print(f\"  ✓ Successfully ensured local file: {dst_java}\")\n",
    "                        copied_paths.append(dst_java)\n",
    "                except Exception as e:\n",
    "                    print(f\"  ❌ Error ensuring local file: {str(e)}\")\n",
    "        except Exception as e:\n",
    "            print(f\"  ❌ Error copying file: {str(e)}\")\n",
    "\n",
    "# Remove duplicates while preserving order\n",
    "unique_paths = []\n",
    "seen = set()\n",
    "for path in copied_paths:\n",
    "    if path not in seen:\n",
    "        seen.add(path)\n",
    "        unique_paths.append(path)\n",
    "\n",
    "# Summary\n",
    "print(\"\\nSummary:\")\n",
    "print(f\"Total source files: {len(src_paths)}\")\n",
    "print(f\"Files copied: {len(copied_paths) - len(skipped_paths)}\")\n",
    "print(f\"Files skipped (already exist): {len(skipped_paths)}\")\n",
    "print(f\"Total files for processing: {len(unique_paths)}\")\n",
    "\n",
    "# Store for downstream use\n",
    "dbutils.jobs.taskValues.set(\"file_paths\", unique_paths)\n",
    "print(\"\\nPaths stored for downstream processing:\")"
   ]
  }
 ],
 "metadata": {
  "application/vnd.databricks.v1+notebook": {
   "computePreferences": null,
   "dashboards": [],
   "environmentMetadata": {
    "base_environment": "dbe_41a50460-c90b-4840-9288-afcb847395d5",
    "environment_version": "2"
   },
   "inputWidgetPreferences": null,
   "language": "python",
   "notebookMetadata": {
    "pythonIndentUnit": 2
   },
   "notebookName": "list_files",
   "widgets": {
    "volume_path": {
     "currentValue": " /Volumes/jy_demo_catalog/text_analysis_schema/sample_texts/",
     "nuid": "3c407663-3023-404f-85c0-c1f96a952911",
     "typedWidgetInfo": {
      "autoCreated": false,
      "defaultValue": "",
      "label": "",
      "name": "volume_path",
      "options": {
       "widgetDisplayType": "Text",
       "validationRegex": null
      },
      "parameterDataType": "String"
     },
     "widgetInfo": {
      "widgetType": "text",
      "defaultValue": "",
      "label": "",
      "name": "volume_path",
      "options": {
       "widgetType": "text",
       "autoCreated": false,
       "validationRegex": null
      }
     }
    }
   }
  },
  "language_info": {
   "name": "python"
  }
 },
 "nbformat": 4,
 "nbformat_minor": 0
}

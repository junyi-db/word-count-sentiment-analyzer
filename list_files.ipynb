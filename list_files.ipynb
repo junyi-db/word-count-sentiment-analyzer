{
 "cells": [
  {
   "cell_type": "code",
   "execution_count": 0,
   "metadata": {
    "application/vnd.databricks.v1+cell": {
     "cellMetadata": {},
     "inputWidgets": {},
     "nuid": "30008203-2c92-46a9-93f2-a64c9fae2750",
     "showTitle": false,
     "tableResultSettingsMap": {},
     "title": ""
    }
   },
   "outputs": [],
   "source": [
    "import json\n",
    "# List .txt files in Unity Catalog volume\n",
    "src_paths = [\n",
    "    f.path for f in dbutils.fs.ls(dbutils.widgets.get(\"volume_path\"))\n",
    "    if f.path.lower().endswith(\".txt\")\n",
    "]\n",
    "copied_paths = []\n",
    "# Copy each file to /dbfs/tmp and collect real local-accessible paths\n",
    "for src in src_paths:\n",
    "    filename = src.split(\"/\")[-1]\n",
    "    dst_java = f\"/dbfs/tmp/{filename}\"\n",
    "    dst_spark = f\"dbfs:/tmp/{filename}\"\n",
    "    dbutils.fs.cp(src, dst_spark, recurse=False)\n",
    "    copied_paths.append(dst_java)  # Must be local path, NOT dbfs:/...\n",
    "# Store for downstream use\n",
    "dbutils.jobs.taskValues.set(\"file_paths\", copied_paths)"
   ]
  }
 ],
 "metadata": {
  "application/vnd.databricks.v1+notebook": {
   "computePreferences": null,
   "dashboards": [],
   "environmentMetadata": {
    "base_environment": "dbe_41a50460-c90b-4840-9288-afcb847395d5",
    "environment_version": "2"
   },
   "inputWidgetPreferences": null,
   "language": "python",
   "notebookMetadata": {
    "pythonIndentUnit": 2
   },
   "notebookName": "list_files",
   "widgets": {
    "volume_path": {
     "currentValue": " /Volumes/jy_demo_catalog/text_analysis_schema/sample_texts/",
     "nuid": "3c407663-3023-404f-85c0-c1f96a952911",
     "typedWidgetInfo": {
      "autoCreated": false,
      "defaultValue": "",
      "label": "",
      "name": "volume_path",
      "options": {
       "widgetDisplayType": "Text",
       "validationRegex": null
      },
      "parameterDataType": "String"
     },
     "widgetInfo": {
      "widgetType": "text",
      "defaultValue": "",
      "label": "",
      "name": "volume_path",
      "options": {
       "widgetType": "text",
       "autoCreated": false,
       "validationRegex": null
      }
     }
    }
   }
  },
  "language_info": {
   "name": "python"
  }
 },
 "nbformat": 4,
 "nbformat_minor": 0
}
